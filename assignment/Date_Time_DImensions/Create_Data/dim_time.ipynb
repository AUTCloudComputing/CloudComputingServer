{
 "cells": [
  {
   "cell_type": "markdown",
   "metadata": {},
   "source": [
    "# Create DIM Time table\n",
    "\n",
    "This notebook is populated a time dimension for a data warehouse that requires time analysis and intelligence.\n"
   ]
  },
  {
   "cell_type": "code",
   "execution_count": 1,
   "metadata": {},
   "outputs": [],
   "source": [
    "import pandas as pd\n",
    "import numpy as np\n",
    "import datetime"
   ]
  },
  {
   "cell_type": "code",
   "execution_count": 2,
   "metadata": {},
   "outputs": [
    {
     "name": "stderr",
     "output_type": "stream",
     "text": [
      "/var/folders/nf/vsypdynx6l5bkkj3kvftrpz80000gn/T/ipykernel_57710/482390229.py:1: FutureWarning: 'S' is deprecated and will be removed in a future version, please use 's' instead.\n",
      "  date_range = pd.date_range(start=datetime.datetime(2024,1,1), end=datetime.datetime(2024,1,2), freq='S')\n"
     ]
    }
   ],
   "source": [
    "\n",
    "date_range = pd.date_range(start=datetime.datetime(2024,1,1), end=datetime.datetime(2024,1,2), freq='S')"
   ]
  },
  {
   "cell_type": "code",
   "execution_count": 3,
   "metadata": {},
   "outputs": [],
   "source": [
    "time_df = pd.DataFrame({'date_time_key':date_range.strftime('%Y%m%d%H%M%S')})\n",
    "# dim_time_key INT PRIMARY KEY NOT NULL,\n",
    "time_df['dim_time_key'] = time_df['date_time_key'].str.slice(8)"
   ]
  },
  {
   "cell_type": "code",
   "execution_count": 4,
   "metadata": {},
   "outputs": [],
   "source": [
    "#     time_hhmm INT,\n",
    "time_df['time_hhmm'] = time_df['dim_time_key'].str.slice(stop=4)"
   ]
  },
  {
   "cell_type": "code",
   "execution_count": 5,
   "metadata": {},
   "outputs": [],
   "source": [
    "#     time_hh_24 INT,\n",
    "time_df['time_hh_24'] = time_df['dim_time_key'].str.slice(stop=2)"
   ]
  },
  {
   "cell_type": "code",
   "execution_count": 6,
   "metadata": {},
   "outputs": [],
   "source": [
    "#     time_hh INT,\n",
    "#     time_am_pm VARCHAR(2)\n",
    "time_df.tail()\n",
    "\n",
    "time_df['time_hh'] = np.where(time_df['time_hh_24'].astype(int)>12, time_df['time_hh_24'].astype(int)-12, time_df['time_hh_24'])\n",
    "\n",
    "time_df['time_am_pm'] = np.where(time_df['time_hh_24'].astype(int)>12, 'pm', 'am')"
   ]
  },
  {
   "cell_type": "code",
   "execution_count": 7,
   "metadata": {},
   "outputs": [],
   "source": [
    "time_df.drop(columns=['date_time_key'], inplace=True)"
   ]
  },
  {
   "cell_type": "code",
   "execution_count": 8,
   "metadata": {},
   "outputs": [],
   "source": [
    "time_df.drop(time_df.index[-1], inplace=True)"
   ]
  },
  {
   "cell_type": "code",
   "execution_count": 9,
   "metadata": {},
   "outputs": [],
   "source": [
    "time_df.to_csv('dim_time.csv', index=False)"
   ]
  },
  {
   "cell_type": "code",
   "execution_count": null,
   "metadata": {},
   "outputs": [],
   "source": []
  }
 ],
 "metadata": {
  "kernelspec": {
   "display_name": ".venv",
   "language": "python",
   "name": "python3"
  },
  "language_info": {
   "codemirror_mode": {
    "name": "ipython",
    "version": 3
   },
   "file_extension": ".py",
   "mimetype": "text/x-python",
   "name": "python",
   "nbconvert_exporter": "python",
   "pygments_lexer": "ipython3",
   "version": "3.9.18"
  }
 },
 "nbformat": 4,
 "nbformat_minor": 2
}
